{
 "cells": [
  {
   "cell_type": "code",
   "execution_count": 1,
   "metadata": {},
   "outputs": [],
   "source": [
    "import json\n",
    "import re\n",
    "\n",
    "def transform_json(input_file, output_file):\n",
    "    with open(input_file, 'r', encoding='utf-8') as infile:\n",
    "        data = json.load(infile)\n",
    "\n",
    "    for i,item in enumerate(data):\n",
    "        original_len = len(item.get(\"conversations\", []))\n",
    "        for conversation in item.get(\"conversations\", []):\n",
    "            # 原始字符串\n",
    "            rec_string = conversation.get(\"rec\", \"\")\n",
    "            \n",
    "            # 使用正则表达式匹配标记\n",
    "            matches = re.finditer(r'<(.*?)>:\\s*\\[(.*?)\\]', rec_string)\n",
    "            \n",
    "            # 初始化字典，用于存储标记及其内容\n",
    "            tag_dict = {}\n",
    "            \n",
    "            for match in matches:\n",
    "                # print(match)\n",
    "                tag = match.group(1)\n",
    "                content = match.group(2)\n",
    "                \n",
    "                if content.strip():  # 检查内容是否为空\n",
    "                    # 解析列表内容\n",
    "                    content_list = [c.strip().strip(\"'\") for c in content.split(\",\")]\n",
    "                    tag_dict[f\"<{tag}>\"] = content_list\n",
    "            \n",
    "            # 对可能存在的标签进行检查，确保所有标签都有键值对\n",
    "            for tag in [\"<CAPTION>\", \"<REASONING>\"]:\n",
    "                if tag not in tag_dict:\n",
    "                    tag_dict[tag] = []  # 设置为空字符串\n",
    "            # print(tag_dict)\n",
    "            # 用新建的字典替代原有的 \"rec\" 记录\n",
    "            conversation.update(tag_dict)\n",
    "\n",
    "            # 移除原始的 \"rec\" 键\n",
    "            if \"rec\" in conversation:\n",
    "                del conversation[\"rec\"]\n",
    "        \n",
    "        \n",
    "        # 检查“conversations”长度是否一致\n",
    "        new_len = len(item.get(\"conversations\", []))\n",
    "        assert original_len == new_len, f\"Lengths do not match for item with id: {item.get('id')}. Original: {original_len}, New: {new_len}\"\n",
    "        # if i > 5:\n",
    "        #     break\n",
    "    # 将修改后的数据写回JSON文件\n",
    "    with open(output_file, 'w', encoding='utf-8') as outfile:\n",
    "        json.dump(data, outfile, indent=2)\n",
    "input_path = \"/mnt/pfs-mc0p4k/nlu/team/yuhaofu/model/GCotVLM/GCot_json/24000--.json\"\n",
    "output_path = \"/mnt/pfs-mc0p4k/nlu/team/yuhaofu/model/GCotVLM/GCot_json/trans_24000--.json\"\n",
    "# 示例使用\n",
    "transform_json(input_path, output_path)"
   ]
  }
 ],
 "metadata": {
  "kernelspec": {
   "display_name": "llama-cookbook",
   "language": "python",
   "name": "python3"
  },
  "language_info": {
   "codemirror_mode": {
    "name": "ipython",
    "version": 3
   },
   "file_extension": ".py",
   "mimetype": "text/x-python",
   "name": "python",
   "nbconvert_exporter": "python",
   "pygments_lexer": "ipython3",
   "version": "3.10.16"
  }
 },
 "nbformat": 4,
 "nbformat_minor": 2
}
