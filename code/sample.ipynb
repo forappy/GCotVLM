{
 "cells": [
  {
   "cell_type": "code",
   "execution_count": 1,
   "metadata": {},
   "outputs": [],
   "source": [
    "import json\n",
    "\n",
    "# 加载JSON文件\n",
    "def load_json(file_path):\n",
    "    with open(file_path, 'r') as file:\n",
    "        return json.load(file)\n",
    "\n",
    "# 保存数据到JSON文件\n",
    "def save_json(data, file_path):\n",
    "    with open(file_path, 'w') as file:\n",
    "        json.dump(data, file, indent=4)"
   ]
  },
  {
   "cell_type": "code",
   "execution_count": 2,
   "metadata": {},
   "outputs": [],
   "source": [
    "input_path = '/mnt/pfs-mc0p4k/nlu/team/yuhaofu/data/LLaVA-CoT-100k/train.jsonl'\n",
    "data = []\n",
    "with open(input_path, 'r') as f:\n",
    "        for line in f:\n",
    "            data.append(json.loads(line.strip()))"
   ]
  },
  {
   "cell_type": "code",
   "execution_count": null,
   "metadata": {},
   "outputs": [],
   "source": [
    "import json\n",
    "import random\n",
    "\n",
    "# 假设 `data` 已经被定义和填充\n",
    "coco = []\n",
    "ai2d = []\n",
    "gqa = []\n",
    "clevr = []\n",
    "ocrvqa = []\n",
    "pisc = []\n",
    "textvqa = []\n",
    "\n",
    "# List to hold other miscellaneous data\n",
    "other_data = []\n",
    "\n",
    "for entry in data:\n",
    "    if 'coco' in entry['image']:\n",
    "        coco.append(entry)\n",
    "    elif 'textvqa' in entry['image']:\n",
    "        textvqa.append(entry)\n",
    "    elif 'ai2d' in entry['image']:\n",
    "        ai2d.append(entry)\n",
    "    elif 'gqa' in entry['image']:\n",
    "        gqa.append(entry)\n",
    "    elif 'clevr' in entry['image']:\n",
    "        clevr.append(entry)\n",
    "    elif 'ocrvqa' in entry['image']:\n",
    "        ocrvqa.append(entry)\n",
    "    elif 'pisc' in entry['image']:\n",
    "        pisc.append(entry)\n",
    "    else:\n",
    "        other_data.append(entry)\n",
    "\n",
    "# 为保证随机性，打乱顺序\n",
    "random.shuffle(coco)\n",
    "random.shuffle(ai2d)\n",
    "\n",
    "# 采样一半样本\n",
    "coco_sampled = coco[:len(coco) // 2]\n",
    "coco_remaining = coco[len(coco) // 2:]\n",
    "\n",
    "ai2d_sampled = ai2d[:len(ai2d) // 2]\n",
    "ai2d_remaining = ai2d[len(ai2d) // 2:]\n",
    "\n",
    "# 创建两个合并后的列表\n",
    "combined_sampled = coco_sampled + ai2d_sampled + gqa + clevr + ocrvqa + pisc + textvqa\n",
    "combined_remaining = coco_remaining + ai2d_remaining + other_data\n",
    "\n",
    "# 写入JSON文件\n",
    "with open('/mnt/pfs-mc0p4k/nlu/team/yuhaofu/model/GCotVLM/GCot_json/sampled_data.json', 'w') as f_sampled:\n",
    "    json.dump(combined_sampled, f_sampled)\n",
    "\n",
    "with open('/mnt/pfs-mc0p4k/nlu/team/yuhaofu/model/GCotVLM/GCot_json/remaining_data.json', 'w') as f_remaining:\n",
    "    json.dump(combined_remaining, f_remaining)"
   ]
  },
  {
   "cell_type": "code",
   "execution_count": 6,
   "metadata": {},
   "outputs": [],
   "source": [
    "assert len(data) == len(combined_sampled) + len(combined_remaining)"
   ]
  },
  {
   "cell_type": "code",
   "execution_count": 8,
   "metadata": {},
   "outputs": [
    {
     "name": "stdout",
     "output_type": "stream",
     "text": [
      "32606\n",
      "48879\n",
      "27701 70881\n"
     ]
    }
   ],
   "source": [
    "print(len(coco))\n",
    "print(len(other_data))\n",
    "print(len(combined_sampled), len(combined_remaining))"
   ]
  },
  {
   "cell_type": "code",
   "execution_count": 2,
   "metadata": {},
   "outputs": [
    {
     "name": "stdout",
     "output_type": "stream",
     "text": [
      "剩余的3701个样本已保存到 'remaining_samples.json'。\n"
     ]
    }
   ],
   "source": [
    "import json\n",
    "output = '/mnt/pfs-mc0p4k/nlu/team/yuhaofu/model/GCotVLM/GCot_json/24000--.json'\n",
    "# 读取原始 JSON 文件\n",
    "with open('/mnt/pfs-mc0p4k/nlu/team/yuhaofu/model/GCotVLM/GCot_json/gpt_result_all.json', 'r', encoding='utf-8') as file:\n",
    "    data = json.load(file)\n",
    "\n",
    "# 检查数据长度\n",
    "total_samples = len(data)\n",
    "if total_samples <= 14000:\n",
    "    print(\"数据样本不够长，没有多余的10000个样本可以提取。\")\n",
    "else:\n",
    "    # 获取后面的10000个样本\n",
    "    remaining_samples = data[24000:]  # 假设原始样本总共有24000个\n",
    "\n",
    "    # 输出的数据文件\n",
    "    with open(output, 'w', encoding='utf-8') as file:\n",
    "        json.dump(remaining_samples, file, ensure_ascii=False, indent=4)\n",
    "\n",
    "    print(f\"剩余的{len(remaining_samples)}个样本已保存到 'remaining_samples.json'。\")"
   ]
  }
 ],
 "metadata": {
  "kernelspec": {
   "display_name": "llama-cookbook",
   "language": "python",
   "name": "python3"
  },
  "language_info": {
   "codemirror_mode": {
    "name": "ipython",
    "version": 3
   },
   "file_extension": ".py",
   "mimetype": "text/x-python",
   "name": "python",
   "nbconvert_exporter": "python",
   "pygments_lexer": "ipython3",
   "version": "3.10.16"
  }
 },
 "nbformat": 4,
 "nbformat_minor": 2
}
